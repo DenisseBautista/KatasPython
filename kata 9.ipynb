{
 "cells": [
  {
   "cell_type": "markdown",
   "metadata": {},
   "source": [
    "Ejercicio 1:Uso de Funciones en Python."
   ]
  },
  {
   "cell_type": "code",
   "execution_count": 13,
   "metadata": {},
   "outputs": [
    {
     "name": "stdout",
     "output_type": "stream",
     "text": [
      "Reporte:\n",
      " Total:53.333333333333336%\n",
      " Tanque 1:50%\n",
      " Tanque 2: 40%\n",
      " Tanque 3:70%\n"
     ]
    }
   ],
   "source": [
    "\n",
    "def combust(tanq1, tanq2, tanq3):\n",
    " pro = (tanq1+tanq2+ tanq3)/3\n",
    " return f\"\"\"Reporte:\n",
    " Total:{pro}%\n",
    " Tanque 1:{tanq1}%\n",
    " Tanque 2: {tanq2}%\n",
    " Tanque 3:{tanq3}%\"\"\"\n",
    "print(combust(50,40,70))\n"
   ]
  },
  {
   "cell_type": "code",
   "execution_count": 14,
   "metadata": {},
   "outputs": [
    {
     "data": {
      "text/plain": [
       "82.0"
      ]
     },
     "execution_count": 14,
     "metadata": {},
     "output_type": "execute_result"
    }
   ],
   "source": [
    "def calcombus(valor):\n",
    "    tot=sum(valor)\n",
    "    num=len(valor)\n",
    "    return tot/num\n",
    "calcombus([80,85,81])\n",
    "\n"
   ]
  },
  {
   "cell_type": "code",
   "execution_count": 19,
   "metadata": {},
   "outputs": [
    {
     "name": "stdout",
     "output_type": "stream",
     "text": [
      "Reporte:\n",
      " Promedio total:78.0%\n",
      " Tanque 188%\n",
      " Tanque 2:76%\n",
      " Tanque 3:70%\n"
     ]
    }
   ],
   "source": [
    "def combust(tanq1, tanq2, tanq3):\n",
    " return f\"\"\"Reporte:\n",
    " Promedio total:{calcombus([tanq1, tanq2, tanq3])}%\n",
    " Tanque 1{tanq1}%\n",
    " Tanque 2:{tanq2}%\n",
    " Tanque 3:{tanq3}%\"\"\"\n",
    "print(combust(88,76,70))\n"
   ]
  },
  {
   "cell_type": "markdown",
   "metadata": {},
   "source": [
    "Ejercicio 2:Trabajo con argumentos de palabra clave"
   ]
  },
  {
   "cell_type": "code",
   "execution_count": 20,
   "metadata": {},
   "outputs": [
    {
     "name": "stdout",
     "output_type": "stream",
     "text": [
      "\n",
      "    Mision a: Moon\n",
      "    Total tiempo de vuelo: 65 minutos\n",
      "    Total combustible: 500000 galones.\n",
      "    \n"
     ]
    }
   ],
   "source": [
    "def informe(pre_lanza, tiempo_vuel, destino, tanque_ext, tanque_int):\n",
    "    return f\"\"\"\n",
    "    Mision a: {destino}\n",
    "    Total tiempo de vuelo: {pre_lanza + tiempo_vuel} minutos\n",
    "    Total combustible: {tanque_ext + tanque_int} galones.\n",
    "    \"\"\"\n",
    "\n",
    "print(informe(13, 45, \"Moon\", 35000, 40000))"
   ]
  },
  {
   "cell_type": "code",
   "execution_count": null,
   "metadata": {},
   "outputs": [],
   "source": [
    "def informe(destino, *minutes, **fuel_reservoirs):\n",
    "    return f\"\"\"\n",
    "    Mision a {destino}\n",
    "    Total tiempo de vuelo: {sum(minutes)} minutes\n",
    "    Total combustible: {sum(fuel_reservoirs.values())}\n",
    "    \"\"\"\n",
    "\n",
    "print(informe(\"Moon\", 13, 15, 45, main=100000, external=300000))"
   ]
  },
  {
   "cell_type": "code",
   "execution_count": 26,
   "metadata": {},
   "outputs": [
    {
     "name": "stdout",
     "output_type": "stream",
     "text": [
      "\n",
      "    Mision a Moon\n",
      "    Total tiempo de vuelo: 74 minutes\n",
      "    Total de combustible: 500000\n",
      "    principal tanque --> 300000 galones\n",
      "externo tanque --> 200000 galones\n",
      "\n"
     ]
    }
   ],
   "source": [
    "def informe(destino, *minutes, **fuel_reservoirs):\n",
    "    reporte_prin = f\"\"\"\n",
    "    Mision a {destino}\n",
    "    Total tiempo de vuelo: {sum(minutes)} minutes\n",
    "    Total de combustible: {sum(fuel_reservoirs.values())}\n",
    "    \"\"\"\n",
    "    for nombre_tan, galones in fuel_reservoirs.items():\n",
    "        reporte_prin += f\"{nombre_tan} tanque --> {galones} galones\\n\"\n",
    "    return reporte_prin\n",
    "\n",
    "print(informe(\"Moon\", 8, 11, 55, principal=300000, externo=200000))"
   ]
  }
 ],
 "metadata": {
  "interpreter": {
   "hash": "c7176bb53f4ab4806955a30f558dc19ed11e33aae0ea473e14c405a5ccfb3788"
  },
  "kernelspec": {
   "display_name": "Python 3.10.2 64-bit",
   "language": "python",
   "name": "python3"
  },
  "language_info": {
   "codemirror_mode": {
    "name": "ipython",
    "version": 3
   },
   "file_extension": ".py",
   "mimetype": "text/x-python",
   "name": "python",
   "nbconvert_exporter": "python",
   "pygments_lexer": "ipython3",
   "version": "3.10.2"
  },
  "orig_nbformat": 4
 },
 "nbformat": 4,
 "nbformat_minor": 2
}
