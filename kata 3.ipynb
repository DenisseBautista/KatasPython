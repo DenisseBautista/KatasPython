{
 "cells": [
  {
   "cell_type": "markdown",
   "metadata": {},
   "source": [
    "Imprimir una advertencia si un asteroide se acerca a la tierra demasiado rapido. Si la velocidad del asteroide es superior a 25 km/s merece una advertencia, el asteroide  viaja a 49 km/s"
   ]
  },
  {
   "cell_type": "code",
   "execution_count": 62,
   "metadata": {},
   "outputs": [
    {
     "name": "stdout",
     "output_type": "stream",
     "text": [
      "¡Alerta!, asteroide de 49 km/s se acerca a Tierra.\n"
     ]
    }
   ],
   "source": [
    "aste=49\n",
    "if aste>25:\n",
    "    print(\"¡Alerta!, asteroide de \" + str(aste) +\" km/s se acerca a Tierra.\")\n",
    "else:\n",
    "    print(\"¡Sigue con tu dia!\")"
   ]
  },
  {
   "cell_type": "markdown",
   "metadata": {},
   "source": [
    "Si un asteroide entra en la atmósfera de la Tierra a una velocidad mayor o igual a 20 km/s, a veces produce un rayo de luz que se puede ver desde la Tierra.\n",
    "Escribe la lógica condicional que usa declaraciones if, else, y elif para alertar a las personas de todo el mundo que deben buscar un asteroide en el cielo. ¡Hay uno que se dirige a la tierra ahora a una velocidad de 19 km/s!"
   ]
  },
  {
   "cell_type": "code",
   "execution_count": 63,
   "metadata": {},
   "outputs": [
    {
     "name": "stdout",
     "output_type": "stream",
     "text": [
      "Asteroide de 19 km/s, no hay que preocuparse \n"
     ]
    }
   ],
   "source": [
    "aste=19\n",
    "if aste>20:\n",
    "    print(\"Asteroide de \"+ str(aste)+\" km/s entrando a la atmosfera, favor de buscar un rayo de luz\")\n",
    "elif aste==20:\n",
    "        print(\"Asteroide de \"+ str(aste)+\" km/s entrando a la atmosfera, favor de buscar un rayo de luz\")\n",
    "else:\n",
    "   print(\"Asteroide de \"+ str(aste)+\" km/s, no hay que preocuparse \")"
   ]
  },
  {
   "cell_type": "markdown",
   "metadata": {},
   "source": [
    "Advertencia de asteroide en dimension como en velocidad.\n"
   ]
  },
  {
   "cell_type": "code",
   "execution_count": 64,
   "metadata": {},
   "outputs": [
    {
     "name": "stdout",
     "output_type": "stream",
     "text": [
      "Alerta, asteroide de 700 m 22 Km/s entrando a tierra potencial peligro\n"
     ]
    }
   ],
   "source": [
    "Dimas=700\n",
    "Velas=22\n",
    "if Dimas<25 and Velas>=20 and Velas<=25:\n",
    "    print(\"El asteoride no presenta peligro, ¡Busca una luz en el cielo!\")\n",
    "elif  Dimas<1000 or Velas>25:\n",
    "    print(\"Alerta, asteroide de \" + str(Dimas) + \" m \" + str(Velas) +\" Km/s entrando a tierra potencial peligro\")\n",
    "else:\n",
    "    print(\"Todo tranquilo\")\n",
    "    "
   ]
  }
 ],
 "metadata": {
  "interpreter": {
   "hash": "c7176bb53f4ab4806955a30f558dc19ed11e33aae0ea473e14c405a5ccfb3788"
  },
  "kernelspec": {
   "display_name": "Python 3.10.2 64-bit",
   "language": "python",
   "name": "python3"
  },
  "language_info": {
   "codemirror_mode": {
    "name": "ipython",
    "version": 3
   },
   "file_extension": ".py",
   "mimetype": "text/x-python",
   "name": "python",
   "nbconvert_exporter": "python",
   "pygments_lexer": "ipython3",
   "version": "3.10.2"
  },
  "orig_nbformat": 4
 },
 "nbformat": 4,
 "nbformat_minor": 2
}
