{
 "cells": [
  {
   "cell_type": "markdown",
   "metadata": {},
   "source": [
    "Ejericio 1. Transfromar cadenas."
   ]
  },
  {
   "cell_type": "code",
   "execution_count": 1,
   "metadata": {},
   "outputs": [
    {
     "name": "stdout",
     "output_type": "stream",
     "text": [
      " \n",
      "On average, the Moon moves 4cm away from the Earth every year\n",
      " The highest daylight temperature of the Moon is 127 C\n"
     ]
    }
   ],
   "source": [
    "text = \"\"\"Interesting facts about the Moon. The Moon is Earth's only satellite. There are several interesting facts about the Moon and how it affects life here on Earth. \n",
    "On average, the Moon moves 4cm away from the Earth every year. This yearly drift is not significant enough to cause immediate effects on Earth. The highest daylight temperature of the Moon is 127 C.\"\"\"\n",
    "text_p=text.split('.')\n",
    "encont=[\"average\", \"temperature\", \"distance\"]\n",
    "for ubi in text_p:\n",
    "    for enco in encont:\n",
    "        if enco in ubi:\n",
    "           print(ubi)\n",
    "           break"
   ]
  },
  {
   "cell_type": "code",
   "execution_count": 2,
   "metadata": {},
   "outputs": [
    {
     "name": "stdout",
     "output_type": "stream",
     "text": [
      " \n",
      "On average, the Moon moves 4cm away from the Earth every year\n",
      " The highest daylight temperature of the Moon is 127 Celcius.\n"
     ]
    }
   ],
   "source": [
    "for ubi in text_p:\n",
    "    for enco in encont:\n",
    "        if enco in ubi:\n",
    "            print(ubi.replace('C', 'Celcius.'))"
   ]
  },
  {
   "cell_type": "markdown",
   "metadata": {},
   "source": [
    "Ejercicio 2."
   ]
  },
  {
   "cell_type": "code",
   "execution_count": 21,
   "metadata": {},
   "outputs": [
    {
     "data": {
      "text/plain": [
       "'Gravity In Earth And Moon'"
      ]
     },
     "execution_count": 21,
     "metadata": {},
     "output_type": "execute_result"
    }
   ],
   "source": [
    "# Datos con los que vas a trabajar\n",
    "name = \"Moon\"\n",
    "gravity = 0.00162 # in kms\n",
    "planet = \"Earth\"\n",
    "titulo=f'Gravity in {planet} and {name}'.title()\n",
    "titulo"
   ]
  },
  {
   "cell_type": "code",
   "execution_count": 22,
   "metadata": {},
   "outputs": [
    {
     "name": "stdout",
     "output_type": "stream",
     "text": [
      "Gravity In Earth And Moon\n",
      "\n",
      "Nombre del planeta:Earth\n",
      "gravedad en Moon:1.6199999999999999m/s2\n"
     ]
    }
   ],
   "source": [
    "#Plantilla de cadena multilinea para contener el resto d ela iformacion\n",
    "calc=f\"\"\"\n",
    "Nombre del planeta:{planet}\n",
    "gravedad en {name}:{gravity*1000}m/s2\"\"\"\n",
    "template=f\"\"\"{titulo.title()}\n",
    "{calc}\"\"\"\n",
    "print(template)"
   ]
  },
  {
   "cell_type": "code",
   "execution_count": 23,
   "metadata": {},
   "outputs": [
    {
     "name": "stdout",
     "output_type": "stream",
     "text": [
      "Gravity In Earth And Moon\n",
      "\n",
      "Nombre del planeta:Earth\n",
      "gravedad en Moon:1.6199999999999999m/s2\n"
     ]
    }
   ],
   "source": [
    "#Datos de diferente luna con daatos muestra\n",
    "planet='Marte'\n",
    "gravity=0.00143\n",
    "name='Ganimedes'\n",
    "print(template)"
   ]
  },
  {
   "cell_type": "code",
   "execution_count": 24,
   "metadata": {},
   "outputs": [
    {
     "name": "stdout",
     "output_type": "stream",
     "text": [
      "\n",
      "Gravedad en: Ganimedes\n",
      "Nombre del planeta:Marte\n",
      "Valor de gravedad en Ganimedes: 1.4300000000000002m/s2\n",
      "\n"
     ]
    }
   ],
   "source": [
    "#Creando nueva plantilla\n",
    "new_template=f\"\"\"\n",
    "Gravedad en: {name}\n",
    "Nombre del planeta:{planet}\n",
    "Valor de gravedad en {name}: {gravity*1000}m/s2\n",
    "\"\"\"\n",
    "print(new_template.format(name=name, planet=planet, gravity=gravity))"
   ]
  },
  {
   "cell_type": "code",
   "execution_count": null,
   "metadata": {},
   "outputs": [],
   "source": []
  }
 ],
 "metadata": {
  "interpreter": {
   "hash": "c7176bb53f4ab4806955a30f558dc19ed11e33aae0ea473e14c405a5ccfb3788"
  },
  "kernelspec": {
   "display_name": "Python 3.10.2 64-bit",
   "language": "python",
   "name": "python3"
  },
  "language_info": {
   "codemirror_mode": {
    "name": "ipython",
    "version": 3
   },
   "file_extension": ".py",
   "mimetype": "text/x-python",
   "name": "python",
   "nbconvert_exporter": "python",
   "pygments_lexer": "ipython3",
   "version": "3.10.2"
  },
  "orig_nbformat": 4
 },
 "nbformat": 4,
 "nbformat_minor": 2
}
