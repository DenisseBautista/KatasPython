{
 "cells": [
  {
   "cell_type": "markdown",
   "metadata": {},
   "source": [
    "Ejercicio 1."
   ]
  },
  {
   "cell_type": "code",
   "execution_count": 1,
   "metadata": {},
   "outputs": [
    {
     "name": "stdout",
     "output_type": "stream",
     "text": [
      "628949330 \n",
      "390577533.93\n"
     ]
    }
   ],
   "source": [
    "Plane1=149597870\n",
    "Plane2=778547200\n",
    "Dist=Plane2-Plane1\n",
    "Mill=Dist*0.621\n",
    "imp=f'''{str(Dist)} \n",
    "{str(Mill)}'''\n",
    "print(imp)\n",
    "\n"
   ]
  },
  {
   "cell_type": "markdown",
   "metadata": {},
   "source": [
    "Ejercicio 2."
   ]
  },
  {
   "cell_type": "code",
   "execution_count": 10,
   "metadata": {},
   "outputs": [
    {
     "name": "stdout",
     "output_type": "stream",
     "text": [
      "Distancia en Kilometros:1\n",
      "Millas:0.621\n"
     ]
    }
   ],
   "source": [
    "plane1= int(input('Introduzca las distancia del planeta 1: '))\n",
    "plane2 = int(input('Introduzca la distancia del planeta 2:'))\n",
    "Dist=abs(plane1-plane2)\n",
    "Mill=Dist*0.621\n",
    "print(\"Distancia en Kilometros:\"+str(Dist)+\"\\nMillas:\"+(str(Mill)))\n",
    "\n",
    "\n"
   ]
  }
 ],
 "metadata": {
  "interpreter": {
   "hash": "c7176bb53f4ab4806955a30f558dc19ed11e33aae0ea473e14c405a5ccfb3788"
  },
  "kernelspec": {
   "display_name": "Python 3.10.2 64-bit",
   "language": "python",
   "name": "python3"
  },
  "language_info": {
   "codemirror_mode": {
    "name": "ipython",
    "version": 3
   },
   "file_extension": ".py",
   "mimetype": "text/x-python",
   "name": "python",
   "nbconvert_exporter": "python",
   "pygments_lexer": "ipython3",
   "version": "3.10.2"
  },
  "orig_nbformat": 4
 },
 "nbformat": 4,
 "nbformat_minor": 2
}
