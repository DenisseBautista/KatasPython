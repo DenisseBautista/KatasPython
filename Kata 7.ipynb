{
 "cells": [
  {
   "cell_type": "markdown",
   "metadata": {},
   "source": [
    "Ejercicio 1: Creacion de un Bucke while"
   ]
  },
  {
   "cell_type": "code",
   "execution_count": 9,
   "metadata": {},
   "outputs": [
    {
     "name": "stdout",
     "output_type": "stream",
     "text": [
      "jupiter\n",
      "neptuno\n",
      "marte\n",
      "Son todos los planetas.\n"
     ]
    }
   ],
   "source": [
    "new_planet= ''\n",
    "planets= []\n",
    "while new_planet.lower() != 'done':\n",
    "    if new_planet:\n",
    "        planets.append(new_planet)\n",
    "    new_planet=input('Enter para agregar planeta, done para salir')\n"
   ]
  },
  {
   "cell_type": "code",
   "execution_count": 11,
   "metadata": {},
   "outputs": [
    {
     "name": "stdout",
     "output_type": "stream",
     "text": [
      "jupiter\n",
      "neptuno\n",
      "marte\n",
      "Son todos los planetas.\n"
     ]
    }
   ],
   "source": [
    "for planet in planets:\n",
    "    print(planet)\n",
    "print('Son todos los planetas.')"
   ]
  }
 ],
 "metadata": {
  "interpreter": {
   "hash": "c7176bb53f4ab4806955a30f558dc19ed11e33aae0ea473e14c405a5ccfb3788"
  },
  "kernelspec": {
   "display_name": "Python 3.10.2 64-bit",
   "language": "python",
   "name": "python3"
  },
  "language_info": {
   "codemirror_mode": {
    "name": "ipython",
    "version": 3
   },
   "file_extension": ".py",
   "mimetype": "text/x-python",
   "name": "python",
   "nbconvert_exporter": "python",
   "pygments_lexer": "ipython3",
   "version": "3.10.2"
  },
  "orig_nbformat": 4
 },
 "nbformat": 4,
 "nbformat_minor": 2
}
